{
 "cells": [
  {
   "cell_type": "code",
   "execution_count": null,
   "metadata": {},
   "outputs": [],
   "source": [
    "def get_recommendation (user, movie): \n",
    "    user_rating = movies_matrix[movie] #get the rating by each user for the movie input\n",
    "\n",
    "    \n",
    "    #get the correlation with respect to other movies and drop NaN values\n",
    "    similar_movie = movies_matrix.corrwith(user_rating)\n",
    "    corr_with_movie = pd.DataFrame(similar_movie,columns=[\"Correlation\"])\n",
    "    corr_with_movie.dropna(inplace=True)\n",
    "    corr_with_movie.reset_index(inplace=True)\n",
    "    \n",
    "    #consider only movies that have more than 50 ratings\n",
    "    corr_with_movie = corr_with_movie.merge(movies_with_ratings,how=\"left\",on=\"title\")\n",
    "    corr_with_movie = corr_with_movie[corr_with_movie[\"total number of ratings\"]>50].sort_values(\"Correlation\",ascending=False)\n",
    "    \n",
    "    #return the top 10 correlated movies\n",
    "    c=0\n",
    "    for i,j in zip(list(corr_with_movie.head(11)[\"title\"]),list(corr_with_movie.head(11)[\"Correlation\"])):\n",
    "        if c==0:\n",
    "            c=1\n",
    "            print(\"\\nRecommendations for user \" + str(user) + \" based on his first rated movie \" + i + \":\\n\")   \n",
    "        else:\n",
    "            \n",
    "            print(i +\" with correlation \"+ str(j))"
   ]
  },
  {
   "cell_type": "code",
   "execution_count": null,
   "metadata": {},
   "outputs": [],
   "source": []
  }
 ],
 "metadata": {
  "kernelspec": {
   "display_name": "Python 3",
   "language": "python",
   "name": "python3"
  },
  "language_info": {
   "codemirror_mode": {
    "name": "ipython",
    "version": 3
   },
   "file_extension": ".py",
   "mimetype": "text/x-python",
   "name": "python",
   "nbconvert_exporter": "python",
   "pygments_lexer": "ipython3",
   "version": "3.8.3"
  }
 },
 "nbformat": 4,
 "nbformat_minor": 4
}
