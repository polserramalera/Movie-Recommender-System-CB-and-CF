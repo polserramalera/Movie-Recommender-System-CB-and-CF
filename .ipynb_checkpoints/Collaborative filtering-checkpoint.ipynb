{
 "cells": [
  {
   "cell_type": "code",
   "execution_count": 1,
   "metadata": {},
   "outputs": [],
   "source": [
    "import pandas as pd\n",
    "import numpy as np\n",
    "import os\n",
    "import seaborn as sns\n",
    "import matplotlib.pyplot as plt\n",
    "%matplotlib inline\n",
    "from nltk.corpus import stopwords\n",
    "from sklearn.feature_extraction.text import CountVectorizer\n",
    "from sklearn.metrics.pairwise import cosine_similarity\n",
    "from sklearn.model_selection import train_test_split\n",
    "import string\n",
    "from scipy.sparse import csr_matrix\n",
    "pd.set_option('display.max_rows', None)\n",
    "np.set_printoptions(edgeitems=100)\n",
    "np.core.arrayprint._line_width = 200\n",
    "from sklearn.neighbors import NearestNeighbors\n",
    "import datetime\n",
    "from datetime import datetime \n",
    "import regex as re\n",
    "\n",
    "\n"
   ]
  },
  {
   "cell_type": "markdown",
   "metadata": {},
   "source": [
    "## Collaborative filtering ##"
   ]
  },
  {
   "cell_type": "markdown",
   "metadata": {},
   "source": [
    "We will first develop the **item-based filtering system**.\n",
    "1. Data **exploration**\n",
    "2. Data **cleaning**\n",
    "3. Features **plotting**\n",
    "4. System builder"
   ]
  },
  {
   "cell_type": "markdown",
   "metadata": {},
   "source": [
    "### Data exploration ###"
   ]
  },
  {
   "cell_type": "markdown",
   "metadata": {},
   "source": [
    "Uploading data set with ratings and movie info"
   ]
  },
  {
   "cell_type": "code",
   "execution_count": 2,
   "metadata": {},
   "outputs": [],
   "source": [
    "ratings=pd.read_csv(\"Datasets/u.data\",sep=\"\\t\",header=None,engine=\"python\")\n",
    "movies_raw=pd.read_csv(\"Datasets/u.item\",sep=\"\\|\",header=None,engine=\"python\")"
   ]
  },
  {
   "cell_type": "markdown",
   "metadata": {},
   "source": [
    "Giving names to columns in both datasets."
   ]
  },
  {
   "cell_type": "code",
   "execution_count": 3,
   "metadata": {},
   "outputs": [
    {
     "data": {
      "text/html": [
       "<div>\n",
       "<style scoped>\n",
       "    .dataframe tbody tr th:only-of-type {\n",
       "        vertical-align: middle;\n",
       "    }\n",
       "\n",
       "    .dataframe tbody tr th {\n",
       "        vertical-align: top;\n",
       "    }\n",
       "\n",
       "    .dataframe thead th {\n",
       "        text-align: right;\n",
       "    }\n",
       "</style>\n",
       "<table border=\"1\" class=\"dataframe\">\n",
       "  <thead>\n",
       "    <tr style=\"text-align: right;\">\n",
       "      <th></th>\n",
       "      <th>user_id</th>\n",
       "      <th>movie_id</th>\n",
       "      <th>rating</th>\n",
       "      <th>timestamp</th>\n",
       "    </tr>\n",
       "  </thead>\n",
       "  <tbody>\n",
       "    <tr>\n",
       "      <th>0</th>\n",
       "      <td>196</td>\n",
       "      <td>242</td>\n",
       "      <td>3</td>\n",
       "      <td>881250949</td>\n",
       "    </tr>\n",
       "    <tr>\n",
       "      <th>1</th>\n",
       "      <td>186</td>\n",
       "      <td>302</td>\n",
       "      <td>3</td>\n",
       "      <td>891717742</td>\n",
       "    </tr>\n",
       "    <tr>\n",
       "      <th>2</th>\n",
       "      <td>22</td>\n",
       "      <td>377</td>\n",
       "      <td>1</td>\n",
       "      <td>878887116</td>\n",
       "    </tr>\n",
       "    <tr>\n",
       "      <th>3</th>\n",
       "      <td>244</td>\n",
       "      <td>51</td>\n",
       "      <td>2</td>\n",
       "      <td>880606923</td>\n",
       "    </tr>\n",
       "    <tr>\n",
       "      <th>4</th>\n",
       "      <td>166</td>\n",
       "      <td>346</td>\n",
       "      <td>1</td>\n",
       "      <td>886397596</td>\n",
       "    </tr>\n",
       "  </tbody>\n",
       "</table>\n",
       "</div>"
      ],
      "text/plain": [
       "   user_id  movie_id  rating  timestamp\n",
       "0      196       242       3  881250949\n",
       "1      186       302       3  891717742\n",
       "2       22       377       1  878887116\n",
       "3      244        51       2  880606923\n",
       "4      166       346       1  886397596"
      ]
     },
     "execution_count": 3,
     "metadata": {},
     "output_type": "execute_result"
    }
   ],
   "source": [
    "rat_columns=[\"user_id\",\"movie_id\",\"rating\",\"timestamp\"]\n",
    "ratings.columns=rat_columns\n",
    "ratings.head()"
   ]
  },
  {
   "cell_type": "code",
   "execution_count": 4,
   "metadata": {},
   "outputs": [
    {
     "data": {
      "text/html": [
       "<div>\n",
       "<style scoped>\n",
       "    .dataframe tbody tr th:only-of-type {\n",
       "        vertical-align: middle;\n",
       "    }\n",
       "\n",
       "    .dataframe tbody tr th {\n",
       "        vertical-align: top;\n",
       "    }\n",
       "\n",
       "    .dataframe thead th {\n",
       "        text-align: right;\n",
       "    }\n",
       "</style>\n",
       "<table border=\"1\" class=\"dataframe\">\n",
       "  <thead>\n",
       "    <tr style=\"text-align: right;\">\n",
       "      <th></th>\n",
       "      <th>movie_id</th>\n",
       "      <th>title</th>\n",
       "    </tr>\n",
       "  </thead>\n",
       "  <tbody>\n",
       "    <tr>\n",
       "      <th>0</th>\n",
       "      <td>1</td>\n",
       "      <td>Toy Story (1995)</td>\n",
       "    </tr>\n",
       "    <tr>\n",
       "      <th>1</th>\n",
       "      <td>2</td>\n",
       "      <td>GoldenEye (1995)</td>\n",
       "    </tr>\n",
       "    <tr>\n",
       "      <th>2</th>\n",
       "      <td>3</td>\n",
       "      <td>Four Rooms (1995)</td>\n",
       "    </tr>\n",
       "    <tr>\n",
       "      <th>3</th>\n",
       "      <td>4</td>\n",
       "      <td>Get Shorty (1995)</td>\n",
       "    </tr>\n",
       "    <tr>\n",
       "      <th>4</th>\n",
       "      <td>5</td>\n",
       "      <td>Copycat (1995)</td>\n",
       "    </tr>\n",
       "  </tbody>\n",
       "</table>\n",
       "</div>"
      ],
      "text/plain": [
       "   movie_id              title\n",
       "0         1   Toy Story (1995)\n",
       "1         2   GoldenEye (1995)\n",
       "2         3  Four Rooms (1995)\n",
       "3         4  Get Shorty (1995)\n",
       "4         5     Copycat (1995)"
      ]
     },
     "execution_count": 4,
     "metadata": {},
     "output_type": "execute_result"
    }
   ],
   "source": [
    "movies_colummns=[\"movie_id\",\"title\"]\n",
    "movies=movies_raw[[0,1]]\n",
    "movies.columns=movies_colummns\n",
    "movies.head()"
   ]
  },
  {
   "cell_type": "markdown",
   "metadata": {},
   "source": [
    "**Cleaning** title column by getting rid of the **release date**"
   ]
  },
  {
   "cell_type": "code",
   "execution_count": 5,
   "metadata": {},
   "outputs": [
    {
     "name": "stderr",
     "output_type": "stream",
     "text": [
      "C:\\Users\\Usuario\\Nueva carpeta\\lib\\site-packages\\pandas\\core\\generic.py:6746: SettingWithCopyWarning: \n",
      "A value is trying to be set on a copy of a slice from a DataFrame\n",
      "\n",
      "See the caveats in the documentation: https://pandas.pydata.org/pandas-docs/stable/user_guide/indexing.html#returning-a-view-versus-a-copy\n",
      "  self._update_inplace(new_data)\n"
     ]
    }
   ],
   "source": [
    "movies[\"title\"].replace(\".\\d+.*\",\"\",regex=True,inplace=True)\n",
    "    "
   ]
  },
  {
   "cell_type": "code",
   "execution_count": 6,
   "metadata": {},
   "outputs": [
    {
     "data": {
      "text/html": [
       "<div>\n",
       "<style scoped>\n",
       "    .dataframe tbody tr th:only-of-type {\n",
       "        vertical-align: middle;\n",
       "    }\n",
       "\n",
       "    .dataframe tbody tr th {\n",
       "        vertical-align: top;\n",
       "    }\n",
       "\n",
       "    .dataframe thead th {\n",
       "        text-align: right;\n",
       "    }\n",
       "</style>\n",
       "<table border=\"1\" class=\"dataframe\">\n",
       "  <thead>\n",
       "    <tr style=\"text-align: right;\">\n",
       "      <th></th>\n",
       "      <th>movie_id</th>\n",
       "      <th>title</th>\n",
       "    </tr>\n",
       "  </thead>\n",
       "  <tbody>\n",
       "    <tr>\n",
       "      <th>0</th>\n",
       "      <td>1</td>\n",
       "      <td>Toy Story</td>\n",
       "    </tr>\n",
       "    <tr>\n",
       "      <th>1</th>\n",
       "      <td>2</td>\n",
       "      <td>GoldenEye</td>\n",
       "    </tr>\n",
       "    <tr>\n",
       "      <th>2</th>\n",
       "      <td>3</td>\n",
       "      <td>Four Rooms</td>\n",
       "    </tr>\n",
       "    <tr>\n",
       "      <th>3</th>\n",
       "      <td>4</td>\n",
       "      <td>Get Shorty</td>\n",
       "    </tr>\n",
       "    <tr>\n",
       "      <th>4</th>\n",
       "      <td>5</td>\n",
       "      <td>Copycat</td>\n",
       "    </tr>\n",
       "  </tbody>\n",
       "</table>\n",
       "</div>"
      ],
      "text/plain": [
       "   movie_id        title\n",
       "0         1   Toy Story \n",
       "1         2   GoldenEye \n",
       "2         3  Four Rooms \n",
       "3         4  Get Shorty \n",
       "4         5     Copycat "
      ]
     },
     "execution_count": 6,
     "metadata": {},
     "output_type": "execute_result"
    }
   ],
   "source": [
    "#Checking that the regex has been inplaced correctly\n",
    "movies.head()"
   ]
  },
  {
   "cell_type": "markdown",
   "metadata": {},
   "source": [
    "**Merging** the two dataframes to have movies and ratings in the same table,dropping missing values in title and changing timestamp to datetime"
   ]
  },
  {
   "cell_type": "code",
   "execution_count": 7,
   "metadata": {},
   "outputs": [
    {
     "data": {
      "text/html": [
       "<div>\n",
       "<style scoped>\n",
       "    .dataframe tbody tr th:only-of-type {\n",
       "        vertical-align: middle;\n",
       "    }\n",
       "\n",
       "    .dataframe tbody tr th {\n",
       "        vertical-align: top;\n",
       "    }\n",
       "\n",
       "    .dataframe thead th {\n",
       "        text-align: right;\n",
       "    }\n",
       "</style>\n",
       "<table border=\"1\" class=\"dataframe\">\n",
       "  <thead>\n",
       "    <tr style=\"text-align: right;\">\n",
       "      <th></th>\n",
       "      <th>movie_id</th>\n",
       "      <th>title</th>\n",
       "      <th>user_id</th>\n",
       "      <th>rating</th>\n",
       "      <th>timestamp</th>\n",
       "    </tr>\n",
       "  </thead>\n",
       "  <tbody>\n",
       "    <tr>\n",
       "      <th>0</th>\n",
       "      <td>1</td>\n",
       "      <td>Toy Story</td>\n",
       "      <td>308</td>\n",
       "      <td>4</td>\n",
       "      <td>1998-02-17 17:28:52</td>\n",
       "    </tr>\n",
       "    <tr>\n",
       "      <th>1</th>\n",
       "      <td>1</td>\n",
       "      <td>Toy Story</td>\n",
       "      <td>287</td>\n",
       "      <td>5</td>\n",
       "      <td>1997-09-27 04:21:28</td>\n",
       "    </tr>\n",
       "    <tr>\n",
       "      <th>2</th>\n",
       "      <td>1</td>\n",
       "      <td>Toy Story</td>\n",
       "      <td>148</td>\n",
       "      <td>4</td>\n",
       "      <td>1997-10-16 16:30:11</td>\n",
       "    </tr>\n",
       "    <tr>\n",
       "      <th>3</th>\n",
       "      <td>1</td>\n",
       "      <td>Toy Story</td>\n",
       "      <td>280</td>\n",
       "      <td>4</td>\n",
       "      <td>1998-04-04 14:33:46</td>\n",
       "    </tr>\n",
       "    <tr>\n",
       "      <th>4</th>\n",
       "      <td>1</td>\n",
       "      <td>Toy Story</td>\n",
       "      <td>66</td>\n",
       "      <td>3</td>\n",
       "      <td>1997-12-31 20:48:44</td>\n",
       "    </tr>\n",
       "  </tbody>\n",
       "</table>\n",
       "</div>"
      ],
      "text/plain": [
       "   movie_id      title  user_id  rating           timestamp\n",
       "0         1  Toy Story      308       4 1998-02-17 17:28:52\n",
       "1         1  Toy Story      287       5 1997-09-27 04:21:28\n",
       "2         1  Toy Story      148       4 1997-10-16 16:30:11\n",
       "3         1  Toy Story      280       4 1998-04-04 14:33:46\n",
       "4         1  Toy Story       66       3 1997-12-31 20:48:44"
      ]
     },
     "execution_count": 7,
     "metadata": {},
     "output_type": "execute_result"
    }
   ],
   "source": [
    "movies_with_users=movies.merge(ratings,how=\"left\",on=\"movie_id\")\n",
    "movies_with_users[\"timestamp\"]=pd.to_datetime(movies_with_users[\"timestamp\"], unit='s')\n",
    "movies_with_users[\"title\"]=movies_with_users[\"title\"].dropna()\n",
    "movies_with_users[\"title\"]=movies_with_users[\"title\"].str.strip()\n",
    "\n",
    "movies_with_users.head()"
   ]
  },
  {
   "cell_type": "markdown",
   "metadata": {},
   "source": [
    "#### Explore a little bit and check *popularity* and average rating"
   ]
  },
  {
   "cell_type": "code",
   "execution_count": 8,
   "metadata": {},
   "outputs": [],
   "source": [
    "movies_with_ratings=pd.DataFrame(round(movies_with_users.groupby([\"movie_id\",\"title\"])[\"rating\"].mean()))\n",
    "movies_with_ratings[\"total number of ratings\"]=movies_with_users.groupby([\"movie_id\",\"title\"])[\"rating\"].count()"
   ]
  },
  {
   "cell_type": "code",
   "execution_count": 9,
   "metadata": {},
   "outputs": [],
   "source": [
    "movies_with_ratings.reset_index(inplace=True)"
   ]
  },
  {
   "cell_type": "code",
   "execution_count": 10,
   "metadata": {},
   "outputs": [
    {
     "data": {
      "text/html": [
       "<div>\n",
       "<style scoped>\n",
       "    .dataframe tbody tr th:only-of-type {\n",
       "        vertical-align: middle;\n",
       "    }\n",
       "\n",
       "    .dataframe tbody tr th {\n",
       "        vertical-align: top;\n",
       "    }\n",
       "\n",
       "    .dataframe thead th {\n",
       "        text-align: right;\n",
       "    }\n",
       "</style>\n",
       "<table border=\"1\" class=\"dataframe\">\n",
       "  <thead>\n",
       "    <tr style=\"text-align: right;\">\n",
       "      <th></th>\n",
       "      <th>movie_id</th>\n",
       "      <th>title</th>\n",
       "      <th>rating</th>\n",
       "      <th>total number of ratings</th>\n",
       "    </tr>\n",
       "  </thead>\n",
       "  <tbody>\n",
       "    <tr>\n",
       "      <th>0</th>\n",
       "      <td>1</td>\n",
       "      <td>Toy Story</td>\n",
       "      <td>4.0</td>\n",
       "      <td>452</td>\n",
       "    </tr>\n",
       "    <tr>\n",
       "      <th>1</th>\n",
       "      <td>2</td>\n",
       "      <td>GoldenEye</td>\n",
       "      <td>3.0</td>\n",
       "      <td>131</td>\n",
       "    </tr>\n",
       "    <tr>\n",
       "      <th>2</th>\n",
       "      <td>3</td>\n",
       "      <td>Four Rooms</td>\n",
       "      <td>3.0</td>\n",
       "      <td>90</td>\n",
       "    </tr>\n",
       "    <tr>\n",
       "      <th>3</th>\n",
       "      <td>4</td>\n",
       "      <td>Get Shorty</td>\n",
       "      <td>4.0</td>\n",
       "      <td>209</td>\n",
       "    </tr>\n",
       "    <tr>\n",
       "      <th>4</th>\n",
       "      <td>5</td>\n",
       "      <td>Copycat</td>\n",
       "      <td>3.0</td>\n",
       "      <td>86</td>\n",
       "    </tr>\n",
       "  </tbody>\n",
       "</table>\n",
       "</div>"
      ],
      "text/plain": [
       "   movie_id       title  rating  total number of ratings\n",
       "0         1   Toy Story     4.0                      452\n",
       "1         2   GoldenEye     3.0                      131\n",
       "2         3  Four Rooms     3.0                       90\n",
       "3         4  Get Shorty     4.0                      209\n",
       "4         5     Copycat     3.0                       86"
      ]
     },
     "execution_count": 10,
     "metadata": {},
     "output_type": "execute_result"
    }
   ],
   "source": [
    "movies_with_ratings.head()"
   ]
  },
  {
   "cell_type": "markdown",
   "metadata": {},
   "source": [
    "### Split the data into train and test set"
   ]
  },
  {
   "cell_type": "code",
   "execution_count": 11,
   "metadata": {},
   "outputs": [],
   "source": [
    "from sklearn.model_selection import train_test_split\n",
    "\n",
    "movies_with_users_train, movies_with_users_test = train_test_split(movies_with_users,test_size=0.2)\n",
    "\n",
    "# training datasets to DataFrame again to manipulate them\n",
    "movies_with_users_train = pd.DataFrame(movies_with_users_train, columns= movies_with_users.columns)\n",
    "movies_with_users_test = pd.DataFrame(movies_with_users_test, columns= movies_with_users.columns)"
   ]
  },
  {
   "cell_type": "code",
   "execution_count": 28,
   "metadata": {},
   "outputs": [
    {
     "data": {
      "text/plain": [
       "942"
      ]
     },
     "execution_count": 28,
     "metadata": {},
     "output_type": "execute_result"
    }
   ],
   "source": [
    "len(list(movies_with_users_test[\"user_id\"].unique()))"
   ]
  },
  {
   "cell_type": "markdown",
   "metadata": {},
   "source": [
    " ### Make a movie matrix that with the training set in order to use it for the models"
   ]
  },
  {
   "cell_type": "code",
   "execution_count": 12,
   "metadata": {},
   "outputs": [
    {
     "data": {
      "text/html": [
       "<div>\n",
       "<style scoped>\n",
       "    .dataframe tbody tr th:only-of-type {\n",
       "        vertical-align: middle;\n",
       "    }\n",
       "\n",
       "    .dataframe tbody tr th {\n",
       "        vertical-align: top;\n",
       "    }\n",
       "\n",
       "    .dataframe thead th {\n",
       "        text-align: right;\n",
       "    }\n",
       "</style>\n",
       "<table border=\"1\" class=\"dataframe\">\n",
       "  <thead>\n",
       "    <tr style=\"text-align: right;\">\n",
       "      <th>title</th>\n",
       "      <th></th>\n",
       "      <th>'Til There Was You</th>\n",
       "      <th>1</th>\n",
       "      <th>2 Days in the Valley</th>\n",
       "      <th>3 Ninjas: High Noon At Mega Mountain</th>\n",
       "      <th>8</th>\n",
       "      <th>8 Heads in a Duffel Bag</th>\n",
       "      <th>8 Seconds</th>\n",
       "      <th>A Chef in Love</th>\n",
       "      <th>Above the Rim</th>\n",
       "      <th>...</th>\n",
       "      <th>Yankee Zulu</th>\n",
       "      <th>Year of the Horse</th>\n",
       "      <th>You So Crazy</th>\n",
       "      <th>Young Frankenstein</th>\n",
       "      <th>Young Guns</th>\n",
       "      <th>Young Guns II</th>\n",
       "      <th>Young Poisoner's Handbook, The</th>\n",
       "      <th>Zeus and Roxanne</th>\n",
       "      <th>unknown</th>\n",
       "      <th>Á köldum klaka (Cold Fever)</th>\n",
       "    </tr>\n",
       "    <tr>\n",
       "      <th>user_id</th>\n",
       "      <th></th>\n",
       "      <th></th>\n",
       "      <th></th>\n",
       "      <th></th>\n",
       "      <th></th>\n",
       "      <th></th>\n",
       "      <th></th>\n",
       "      <th></th>\n",
       "      <th></th>\n",
       "      <th></th>\n",
       "      <th></th>\n",
       "      <th></th>\n",
       "      <th></th>\n",
       "      <th></th>\n",
       "      <th></th>\n",
       "      <th></th>\n",
       "      <th></th>\n",
       "      <th></th>\n",
       "      <th></th>\n",
       "      <th></th>\n",
       "      <th></th>\n",
       "    </tr>\n",
       "  </thead>\n",
       "  <tbody>\n",
       "    <tr>\n",
       "      <th>1</th>\n",
       "      <td>2.5</td>\n",
       "      <td>0.0</td>\n",
       "      <td>0.0</td>\n",
       "      <td>0.0</td>\n",
       "      <td>0.0</td>\n",
       "      <td>0.0</td>\n",
       "      <td>0.0</td>\n",
       "      <td>0.0</td>\n",
       "      <td>0.0</td>\n",
       "      <td>0.0</td>\n",
       "      <td>...</td>\n",
       "      <td>0.0</td>\n",
       "      <td>0.0</td>\n",
       "      <td>0.0</td>\n",
       "      <td>5.0</td>\n",
       "      <td>3.0</td>\n",
       "      <td>0.0</td>\n",
       "      <td>0.0</td>\n",
       "      <td>0.0</td>\n",
       "      <td>4.0</td>\n",
       "      <td>0.0</td>\n",
       "    </tr>\n",
       "    <tr>\n",
       "      <th>2</th>\n",
       "      <td>0.0</td>\n",
       "      <td>0.0</td>\n",
       "      <td>0.0</td>\n",
       "      <td>0.0</td>\n",
       "      <td>1.0</td>\n",
       "      <td>0.0</td>\n",
       "      <td>0.0</td>\n",
       "      <td>0.0</td>\n",
       "      <td>0.0</td>\n",
       "      <td>0.0</td>\n",
       "      <td>...</td>\n",
       "      <td>0.0</td>\n",
       "      <td>0.0</td>\n",
       "      <td>0.0</td>\n",
       "      <td>0.0</td>\n",
       "      <td>0.0</td>\n",
       "      <td>0.0</td>\n",
       "      <td>0.0</td>\n",
       "      <td>0.0</td>\n",
       "      <td>0.0</td>\n",
       "      <td>0.0</td>\n",
       "    </tr>\n",
       "    <tr>\n",
       "      <th>3</th>\n",
       "      <td>2.0</td>\n",
       "      <td>0.0</td>\n",
       "      <td>0.0</td>\n",
       "      <td>0.0</td>\n",
       "      <td>0.0</td>\n",
       "      <td>0.0</td>\n",
       "      <td>0.0</td>\n",
       "      <td>0.0</td>\n",
       "      <td>0.0</td>\n",
       "      <td>0.0</td>\n",
       "      <td>...</td>\n",
       "      <td>0.0</td>\n",
       "      <td>0.0</td>\n",
       "      <td>0.0</td>\n",
       "      <td>0.0</td>\n",
       "      <td>0.0</td>\n",
       "      <td>0.0</td>\n",
       "      <td>0.0</td>\n",
       "      <td>0.0</td>\n",
       "      <td>0.0</td>\n",
       "      <td>0.0</td>\n",
       "    </tr>\n",
       "    <tr>\n",
       "      <th>4</th>\n",
       "      <td>0.0</td>\n",
       "      <td>0.0</td>\n",
       "      <td>0.0</td>\n",
       "      <td>0.0</td>\n",
       "      <td>0.0</td>\n",
       "      <td>0.0</td>\n",
       "      <td>0.0</td>\n",
       "      <td>0.0</td>\n",
       "      <td>0.0</td>\n",
       "      <td>0.0</td>\n",
       "      <td>...</td>\n",
       "      <td>0.0</td>\n",
       "      <td>0.0</td>\n",
       "      <td>0.0</td>\n",
       "      <td>0.0</td>\n",
       "      <td>0.0</td>\n",
       "      <td>0.0</td>\n",
       "      <td>0.0</td>\n",
       "      <td>0.0</td>\n",
       "      <td>0.0</td>\n",
       "      <td>0.0</td>\n",
       "    </tr>\n",
       "    <tr>\n",
       "      <th>5</th>\n",
       "      <td>3.0</td>\n",
       "      <td>0.0</td>\n",
       "      <td>0.0</td>\n",
       "      <td>0.0</td>\n",
       "      <td>0.0</td>\n",
       "      <td>0.0</td>\n",
       "      <td>0.0</td>\n",
       "      <td>0.0</td>\n",
       "      <td>0.0</td>\n",
       "      <td>0.0</td>\n",
       "      <td>...</td>\n",
       "      <td>0.0</td>\n",
       "      <td>0.0</td>\n",
       "      <td>0.0</td>\n",
       "      <td>4.0</td>\n",
       "      <td>0.0</td>\n",
       "      <td>0.0</td>\n",
       "      <td>0.0</td>\n",
       "      <td>0.0</td>\n",
       "      <td>4.0</td>\n",
       "      <td>0.0</td>\n",
       "    </tr>\n",
       "  </tbody>\n",
       "</table>\n",
       "<p>5 rows × 1613 columns</p>\n",
       "</div>"
      ],
      "text/plain": [
       "title         'Til There Was You    1  2 Days in the Valley  \\\n",
       "user_id                                                       \n",
       "1        2.5                 0.0  0.0                   0.0   \n",
       "2        0.0                 0.0  0.0                   0.0   \n",
       "3        2.0                 0.0  0.0                   0.0   \n",
       "4        0.0                 0.0  0.0                   0.0   \n",
       "5        3.0                 0.0  0.0                   0.0   \n",
       "\n",
       "title    3 Ninjas: High Noon At Mega Mountain    8  8 Heads in a Duffel Bag  \\\n",
       "user_id                                                                       \n",
       "1                                         0.0  0.0                      0.0   \n",
       "2                                         1.0  0.0                      0.0   \n",
       "3                                         0.0  0.0                      0.0   \n",
       "4                                         0.0  0.0                      0.0   \n",
       "5                                         0.0  0.0                      0.0   \n",
       "\n",
       "title    8 Seconds  A Chef in Love  Above the Rim  ...  Yankee Zulu  \\\n",
       "user_id                                            ...                \n",
       "1              0.0             0.0            0.0  ...          0.0   \n",
       "2              0.0             0.0            0.0  ...          0.0   \n",
       "3              0.0             0.0            0.0  ...          0.0   \n",
       "4              0.0             0.0            0.0  ...          0.0   \n",
       "5              0.0             0.0            0.0  ...          0.0   \n",
       "\n",
       "title    Year of the Horse  You So Crazy  Young Frankenstein  Young Guns  \\\n",
       "user_id                                                                    \n",
       "1                      0.0           0.0                 5.0         3.0   \n",
       "2                      0.0           0.0                 0.0         0.0   \n",
       "3                      0.0           0.0                 0.0         0.0   \n",
       "4                      0.0           0.0                 0.0         0.0   \n",
       "5                      0.0           0.0                 4.0         0.0   \n",
       "\n",
       "title    Young Guns II  Young Poisoner's Handbook, The  Zeus and Roxanne  \\\n",
       "user_id                                                                    \n",
       "1                  0.0                             0.0               0.0   \n",
       "2                  0.0                             0.0               0.0   \n",
       "3                  0.0                             0.0               0.0   \n",
       "4                  0.0                             0.0               0.0   \n",
       "5                  0.0                             0.0               0.0   \n",
       "\n",
       "title    unknown  Á köldum klaka (Cold Fever)  \n",
       "user_id                                        \n",
       "1            4.0                          0.0  \n",
       "2            0.0                          0.0  \n",
       "3            0.0                          0.0  \n",
       "4            0.0                          0.0  \n",
       "5            4.0                          0.0  \n",
       "\n",
       "[5 rows x 1613 columns]"
      ]
     },
     "execution_count": 12,
     "metadata": {},
     "output_type": "execute_result"
    }
   ],
   "source": [
    "movies_matrix = movies_with_users_train.pivot_table(index='user_id',columns='title',values='rating').fillna(0)\n",
    "movies_matrix.head()\n"
   ]
  },
  {
   "cell_type": "markdown",
   "metadata": {},
   "source": [
    "Build a **sparse matrix** and initialize **nearest neighbors model**"
   ]
  },
  {
   "cell_type": "code",
   "execution_count": 13,
   "metadata": {},
   "outputs": [],
   "source": [
    "movies_matrixT=movies_matrix.T\n",
    "movies_sparse_matrix=csr_matrix(movies_matrixT)"
   ]
  },
  {
   "cell_type": "code",
   "execution_count": 14,
   "metadata": {},
   "outputs": [
    {
     "data": {
      "text/plain": [
       "NearestNeighbors(algorithm='brute', metric='cosine', n_jobs=-1, n_neighbors=20)"
      ]
     },
     "execution_count": 14,
     "metadata": {},
     "output_type": "execute_result"
    }
   ],
   "source": [
    "model_knn = NearestNeighbors(metric='cosine', algorithm='brute', n_neighbors=20, n_jobs=-1)\n",
    "model_knn.fit(movies_sparse_matrix)"
   ]
  },
  {
   "cell_type": "markdown",
   "metadata": {},
   "source": [
    "### Building the recommender system functions ###"
   ]
  },
  {
   "cell_type": "markdown",
   "metadata": {},
   "source": [
    "Get recommended movies using **correlation** between them"
   ]
  },
  {
   "cell_type": "code",
   "execution_count": 15,
   "metadata": {},
   "outputs": [],
   "source": [
    "\n",
    "def top_recommendations_correlation (movie): \n",
    "    user_rating = movies_matrix[movie] #get the rating by each user for the movie input\n",
    "\n",
    "    \n",
    "    #get the correlation with respect to other movies and drop NaN values\n",
    "    similar_movie = movies_matrix.corrwith(user_rating)\n",
    "    corr_with_movie = pd.DataFrame(similar_movie,columns=[\"Correlation\"])\n",
    "    corr_with_movie.dropna(inplace=True)\n",
    "    corr_with_movie.reset_index(inplace=True)\n",
    "    \n",
    "    #consider only movies that have more than 50 ratings\n",
    "    corr_with_movie = corr_with_movie.merge(movies_with_ratings,how=\"left\",on=\"title\")\n",
    "    corr_with_movie = corr_with_movie[corr_with_movie[\"total number of ratings\"]>50].sort_values(\"Correlation\",ascending=False)\n",
    "    \n",
    "    #return the top 10 correlated movies\n",
    "    print(\"Top recommendations for you based on the movie inputed based on correlation:\\n \")\n",
    "    for i,j in zip(list(corr_with_movie.head(11)[\"title\"]),list(corr_with_movie.head(11)[\"Correlation\"])):\n",
    "        print(i +\" with correlation \"+ str(j))\n",
    "        \n",
    "    \n",
    "        \n",
    "             \n",
    "   "
   ]
  },
  {
   "cell_type": "code",
   "execution_count": 16,
   "metadata": {},
   "outputs": [
    {
     "name": "stdout",
     "output_type": "stream",
     "text": [
      "Top recommendations for you based on the movie inputed based on correlation:\n",
      " \n",
      "Cinderella with correlation 0.9999999999999998\n",
      "Snow White and the Seven Dwarfs with correlation 0.5219765619156463\n",
      "Dumbo with correlation 0.5020560618712248\n",
      "Pinocchio with correlation 0.48333511875362345\n",
      "Fantasia with correlation 0.47390461072514\n",
      "Beauty and the Beast with correlation 0.4159099071098829\n",
      "Lion King, The with correlation 0.3970525335700653\n",
      "Alice in Wonderland with correlation 0.3872118581553545\n",
      "E.T. the Extra-Terrestrial with correlation 0.3861766313247582\n",
      "Mary Poppins with correlation 0.37695022567800107\n",
      "Sword in the Stone, The with correlation 0.3748025627449714\n"
     ]
    }
   ],
   "source": [
    "top_recommendations_correlation(\"Cinderella\")"
   ]
  },
  {
   "cell_type": "markdown",
   "metadata": {},
   "source": [
    "Get recommended movies using collaborative filtering using **nearest neighbours**"
   ]
  },
  {
   "cell_type": "code",
   "execution_count": 17,
   "metadata": {},
   "outputs": [],
   "source": [
    "def top_recommendations_Knn(movie):\n",
    "    \n",
    "    # Find similar movies (nearer to the selected movie) using kneighbors\n",
    "    distances, indices = model_knn.kneighbors(movies_matrixT[movies_matrixT.index==movie].values.reshape(1, -1), n_neighbors=11)\n",
    "\n",
    "    # Convert 'distances' array into 1-D array with flatten\n",
    "    print(\"Top recommendations for you based on the movie inputed based on nearest neighbours system: \\n \")\n",
    "    for i in range(0, len(distances.flatten())):\n",
    "        print(\"{0}: {1}, with distance of {2}:\".format(i, movies_matrixT.index[indices.flatten()[i]], distances.flatten()[i]))"
   ]
  },
  {
   "cell_type": "code",
   "execution_count": 24,
   "metadata": {},
   "outputs": [
    {
     "name": "stdout",
     "output_type": "stream",
     "text": [
      "Top recommendations for you based on the movie inputed based on nearest neighbours system: \n",
      " \n",
      "0: Cinderella, with distance of 0.0:\n",
      "1: Snow White and the Seven Dwarfs, with distance of 0.4196504700951331:\n",
      "2: Dumbo, with distance of 0.44702332882393647:\n",
      "3: Fantasia, with distance of 0.4641670912756507:\n",
      "4: Pinocchio, with distance of 0.47011082129529547:\n",
      "5: Beauty and the Beast, with distance of 0.5076315862143317:\n",
      "6: E.T. the Extra-Terrestrial, with distance of 0.5219999572190519:\n",
      "7: Lion King, The, with distance of 0.5229808538873402:\n",
      "8: Mary Poppins, with distance of 0.545702115516484:\n",
      "9: Jurassic Park, with distance of 0.5465780495756186:\n",
      "10: Sound of Music, The, with distance of 0.5572192481188428:\n"
     ]
    }
   ],
   "source": [
    "top_recommendations_Knn(\"Cinderella\")"
   ]
  },
  {
   "cell_type": "markdown",
   "metadata": {},
   "source": [
    "## Evaluating the models"
   ]
  },
  {
   "cell_type": "markdown",
   "metadata": {},
   "source": [
    "In order to evaluate both models, we will try to recommend 5 movies to a sample of 5 users based on the **first movie they rated** and check if the have seen and rated in the **future**"
   ]
  },
  {
   "cell_type": "markdown",
   "metadata": {},
   "source": [
    "First, we create a dataframe with the **sorted** users and timestamp of their ratings"
   ]
  },
  {
   "cell_type": "code",
   "execution_count": 19,
   "metadata": {},
   "outputs": [],
   "source": [
    "sorted_movies=movies_with_users.sort_values(by=[\"user_id\",\"timestamp\"])\n"
   ]
  },
  {
   "cell_type": "markdown",
   "metadata": {},
   "source": [
    "Now we take a sample of the **test set**"
   ]
  },
  {
   "cell_type": "code",
   "execution_count": 20,
   "metadata": {},
   "outputs": [],
   "source": [
    "users_sample=movies_with_users_test"
   ]
  },
  {
   "cell_type": "markdown",
   "metadata": {},
   "source": [
    "Let's define the functions to evaluate both systems"
   ]
  },
  {
   "cell_type": "markdown",
   "metadata": {},
   "source": [
    "1. Correlation system"
   ]
  },
  {
   "cell_type": "code",
   "execution_count": 21,
   "metadata": {},
   "outputs": [],
   "source": [
    "def evaluate_correlation (user, movie): \n",
    "    user_rating = movies_matrix[movie] #get the rating by each user for the movie input\n",
    "\n",
    "    \n",
    "    #get the correlation with respect to other movies and drop NaN values\n",
    "    similar_movie = movies_matrix.corrwith(user_rating)\n",
    "    corr_with_movie = pd.DataFrame(similar_movie,columns=[\"Correlation\"])\n",
    "    corr_with_movie.dropna(inplace=True)\n",
    "    corr_with_movie.reset_index(inplace=True)\n",
    "    \n",
    "    #consider only movies that have more than 50 ratings\n",
    "    corr_with_movie = corr_with_movie.merge(movies_with_ratings,how=\"left\",on=\"title\")\n",
    "    corr_with_movie = corr_with_movie[corr_with_movie[\"total number of ratings\"]>50].sort_values(\"Correlation\",ascending=False)\n",
    "    \n",
    "    #return the top 10 correlated movies\n",
    "    recommended_movies_corr=list(corr_with_movie.head(10)[\"title\"])\n",
    "    \n",
    "    movies_user_seen=list(movies_with_users[movies_with_users[\"user_id\"]==user][\"title\"])\n",
    "\n",
    "    matched_movies_corr = []\n",
    "    for movie in recommended_movies_corr:\n",
    "        if movie in movies_user_seen:\n",
    "            matched_movies_corr.append(movie)\n",
    "    \n",
    "    #print(len(matched_movies_corr))\n",
    "       \n",
    "    return matched_movies_corr\n",
    "    #print(movies_user_seen)\n",
    "    \n",
    "    \n",
    "    #c=0\n",
    "    #for i,j in zip(list(corr_with_movie.head(10000)[\"title\"]),list(corr_with_movie.head(10000)[\"Correlation\"])):\n",
    "    #    if c==0:\n",
    "    #        c=1\n",
    "    #        print(\"\\n Recommendations for user \" + str(user) + \" based on his first rated movie \" + i + \" using correlation:\\n\")   \n",
    "    #    else:\n",
    "    #        \n",
    "    #        print(i +\" with correlation \"+ str(j))"
   ]
  },
  {
   "cell_type": "markdown",
   "metadata": {},
   "source": [
    "2. Nearest neighbours system"
   ]
  },
  {
   "cell_type": "code",
   "execution_count": 22,
   "metadata": {},
   "outputs": [],
   "source": [
    "def evaluate_Knn(user,movie):\n",
    "    \n",
    "    # Find similar movies (nearer to the selected movie) using kneighbors\n",
    "    distances, indices = model_knn.kneighbors(movies_matrixT[movies_matrixT.index==movie].values.reshape(1, -1), n_neighbors=11)\n",
    "\n",
    "    recommended_movies_knn=movies_matrixT.index[indices.flatten()]  # Convert 'distances' array into 1-D array with flatten\n",
    "\n",
    "    movies_user_seen=list(movies_with_users[movies_with_users[\"user_id\"]==user][\"title\"])\n",
    "\n",
    "    \n",
    "    matched_movies_knn = []\n",
    "    for movie in recommended_movies_knn:\n",
    "        if movie in movies_user_seen:\n",
    "            matched_movies_knn.append(movie)\n",
    "    #print(len(matched_movies_knn))\n",
    "\n",
    "    return matched_movies_knn\n",
    "\n",
    "    \n",
    "    #for i in range(0, len(distances.flatten())):\n",
    "    #    if i == 0:\n",
    "    #        print(\"\\n Recommendations for user \" + str(user) + \" based on his first rated movie \" + movie + \" using nearest neighbours model:\\n\")   \n",
    "\n",
    "    #    else:\n",
    "    #        print(\"{0}: {1}, with distance of {2}:\".format(i, movies_matrixT.index[indices.flatten()[i]], distances.flatten()[i]))"
   ]
  },
  {
   "cell_type": "markdown",
   "metadata": {},
   "source": [
    "#### Now let's create the loop to evaluate the whole test set"
   ]
  },
  {
   "cell_type": "code",
   "execution_count": 23,
   "metadata": {},
   "outputs": [
    {
     "name": "stdout",
     "output_type": "stream",
     "text": [
      "43\n",
      "59\n",
      "243\n",
      "425\n"
     ]
    }
   ],
   "source": [
    "matches_corr= []\n",
    "matches_knn=[]\n",
    "\n",
    "for user in users_sample[\"user_id\"][:10]:\n",
    "    \n",
    "    # We identify  the **first rated** movie of this users\n",
    "    \n",
    "    matched_movies_corr=evaluate_correlation(sorted_movies[sorted_movies[\"user_id\"]==user].iloc[0][\"user_id\"],sorted_movies[sorted_movies[\"user_id\"]==user].iloc[0][\"title\"])\n",
    "   \n",
    "    matched_movies_knn=evaluate_Knn(sorted_movies[sorted_movies[\"user_id\"]==user].iloc[0][\"user_id\"],sorted_movies[sorted_movies[\"user_id\"]==user].iloc[0][\"title\"])\n",
    "    \n",
    "    \n",
    "    for match_corr in matched_movies_corr:\n",
    "        matches_corr.append(len(matched_movies_corr))\n",
    "    for match_knn in matched_movies_knn:\n",
    "        matches_knn.append(len(matched_movies_knn))\n",
    "            \n",
    "matches_corr=np.array(matches_corr)\n",
    "matches_knn=np.array(matches_knn)\n",
    "print(len(matches_corr)) #Number of users that matched!!\n",
    "print(len(matches_knn))  #Number of users that matched!!\n",
    "total_matches_corr=sum(matches_corr) \n",
    "total_matches_knn=sum(matches_knn)\n",
    "print(total_matches_corr) #Total matched movies\n",
    "print(total_matches_knn)  #Total matched movies\n",
    "    \n"
   ]
  },
  {
   "cell_type": "code",
   "execution_count": null,
   "metadata": {},
   "outputs": [],
   "source": []
  }
 ],
 "metadata": {
  "kernelspec": {
   "display_name": "Python 3",
   "language": "python",
   "name": "python3"
  },
  "language_info": {
   "codemirror_mode": {
    "name": "ipython",
    "version": 3
   },
   "file_extension": ".py",
   "mimetype": "text/x-python",
   "name": "python",
   "nbconvert_exporter": "python",
   "pygments_lexer": "ipython3",
   "version": "3.8.3"
  }
 },
 "nbformat": 4,
 "nbformat_minor": 4
}
